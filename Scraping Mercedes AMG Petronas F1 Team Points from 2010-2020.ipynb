{
 "cells": [
  {
   "cell_type": "markdown",
   "metadata": {},
   "source": [
    "## Scraping Mercedes AMG Petronas F1 Team Points from 2010-2020"
   ]
  },
  {
   "cell_type": "markdown",
   "metadata": {},
   "source": [
    "Building on the techniques I used to scrape RWC data, I scraped Mercedes AMG Petronas F1 data from the official F1 website. "
   ]
  },
  {
   "cell_type": "code",
   "execution_count": 1,
   "metadata": {},
   "outputs": [],
   "source": [
    "from bs4 import BeautifulSoup\n",
    "import requests\n",
    "import pandas as pd\n",
    "import re\n",
    "import datetime as dt\n",
    "import numpy as np"
   ]
  },
  {
   "cell_type": "markdown",
   "metadata": {},
   "source": [
    "I list all of the URLs, and then use requests and beautiful soup to scrape, and then perform some cleaning to get only the text that I need."
   ]
  },
  {
   "cell_type": "code",
   "execution_count": 2,
   "metadata": {},
   "outputs": [],
   "source": [
    "URL_2010 = 'https://www.formula1.com/en/results.html/2010/team/mercedes.html'\n",
    "URL_2011 = 'https://www.formula1.com/en/results.html/2011/team/mercedes.html'\n",
    "URL_2012 = 'https://www.formula1.com/en/results.html/2012/team/mercedes.html'\n",
    "URL_2013 = 'https://www.formula1.com/en/results.html/2013/team/mercedes.html'\n",
    "URL_2014 = 'https://www.formula1.com/en/results.html/2014/team/mercedes.html'\n",
    "URL_2015 = 'https://www.formula1.com/en/results.html/2015/team/mercedes.html'\n",
    "URL_2016 = 'https://www.formula1.com/en/results.html/2016/team/mercedes.html'\n",
    "URL_2017 = 'https://www.formula1.com/en/results.html/2017/team/mercedes.html'\n",
    "URL_2018 = 'https://www.formula1.com/en/results.html/2018/team/mercedes.html'\n",
    "URL_2019 = 'https://www.formula1.com/en/results.html/2019/team/mercedes.html'\n",
    "URL_2020 = 'https://www.formula1.com/en/results.html/2020/team/mercedes.html'\n",
    "URLS = [URL_2010,URL_2011,URL_2012,URL_2013,URL_2014,URL_2015,URL_2016,URL_2017,URL_2018,URL_2019,URL_2020]\n",
    "big_soup = []\n",
    "for i in URLS:\n",
    "    response = requests.get(i)\n",
    "    soup = BeautifulSoup(response.text,'html.parser')\n",
    "    table = soup.find('table', {'class':'resultsarchive-table'}).tbody\n",
    "    text = table.text\n",
    "    text_clean = text.replace('\\n',' ')\n",
    "    big_soup.append(text_clean)   "
   ]
  },
  {
   "cell_type": "code",
   "execution_count": 3,
   "metadata": {},
   "outputs": [],
   "source": [
    "soup = \" \".join(big_soup)"
   ]
  },
  {
   "cell_type": "code",
   "execution_count": 4,
   "metadata": {
    "scrolled": true
   },
   "outputs": [
    {
     "data": {
      "text/plain": [
       "'    Bahrain  14 Mar 2010 18      Australia  28 Mar 2010 11      Malaysia  04 Apr 2010 15      China  18 Apr 2010 16      Spain  09 May 2010 12      Monaco  16 May 2010 6      Turkey  30 May 2010 22      Canada  13 Jun 2010 8      Europe  27 Jun 2010 1      Great Britain  11 Jul 2010 17      Germany  25 Jul 2010 6      Hungary  01 Aug 2010 0      Belgium  29 Aug 2010 14      Italy  12 Sep 2010 12      Singapore  26 Sep 2010 10      Japan  10 Oct 2010 8      South Korea  24 Oct 2010 12      Brazil  07 Nov 2010 14      Abu Dhabi  14 Nov 2010 12        Australia  27 Mar 2011 0      Malaysia  10 Apr 2011 2      China  17 Apr 2011 14      Turkey  08 May 2011 10      Spain  22 May 2011 14      Monaco  29 May 2011 0      Canada  12 Jun 2011 12      Europe  26 Jun 2011 6      Great Britain  10 Jul 2011 10      Germany  24 Jul 2011 10      Hungary  31 Jul 2011 2      Belgium  28 Aug 2011 18      Italy  11 Sep 2011 10      Singapore  25 Sep 2011 6      Japan  09 Oct 2011 9      South Korea  16 Oct 2011 4      India  30 Oct 2011 18      Abu Dhabi  13 Nov 2011 14      Brazil  27 Nov 2011 6        Australia  18 Mar 2012 0      Malaysia  25 Mar 2012 1      China  15 Apr 2012 25      Bahrain  22 Apr 2012 11      Spain  13 May 2012 6      Monaco  27 May 2012 18      Canada  10 Jun 2012 8      Europe  24 Jun 2012 23      Great Britain  08 Jul 2012 6      Germany  22 Jul 2012 7      Hungary  29 Jul 2012 1      Belgium  02 Sep 2012 6      Italy  09 Sep 2012 14      Singapore  23 Sep 2012 10      Japan  07 Oct 2012 0      South Korea  14 Oct 2012 0      India  28 Oct 2012 0      Abu Dhabi  04 Nov 2012 0      United States    18 Nov 2012 0      Brazil  25 Nov 2012 6        Australia  17 Mar 2013 10      Malaysia  24 Mar 2013 27      China  14 Apr 2013 15      Bahrain  21 Apr 2013 12      Spain  12 May 2013 8      Monaco  26 May 2013 37      Canada  09 Jun 2013 25      Great Britain  30 Jun 2013 37      Germany  07 Jul 2013 12      Hungary  28 Jul 2013 25      Belgium  25 Aug 2013 27      Italy  08 Sep 2013 10      Singapore  22 Sep 2013 22      South Korea  06 Oct 2013 16      Japan  13 Oct 2013 4      India  27 Oct 2013 26      Abu Dhabi  03 Nov 2013 21      United States   17 Nov 2013 14      Brazil  24 Nov 2013 12        Australia  16 Mar 2014 25      Malaysia  30 Mar 2014 43      Bahrain  06 Apr 2014 43      China  20 Apr 2014 43      Spain  11 May 2014 43      Monaco  25 May 2014 43      Canada  08 Jun 2014 18      Austria  22 Jun 2014 43      Great Britain  06 Jul 2014 25      Germany  20 Jul 2014 40      Hungary  27 Jul 2014 27      Belgium  24 Aug 2014 18      Italy  07 Sep 2014 43      Singapore  21 Sep 2014 25      Japan  05 Oct 2014 43      Russia  21 Oct 2014 43      United States   02 Nov 2014 43      Brazil  09 Nov 2014 43      Abu Dhabi  23 Nov 2014 50        Australia  15 Mar 2015 43      Malaysia  29 Mar 2015 33      China  12 Apr 2015 43      Bahrain  19 Apr 2015 40      Spain  10 May 2015 43      Monaco  24 May 2015 40      Canada  07 Jun 2015 43      Austria  21 Jun 2015 43      Great Britain  05 Jul 2015 43      Hungary  26 Jul 2015 12      Belgium  23 Aug 2015 43      Italy  06 Sep 2015 25      Singapore  20 Sep 2015 12      Japan  27 Sep 2015 43      Russia  11 Oct 2015 25      United States   25 Oct 2015 43      Mexico  01 Nov 2015 43      Brazil  15 Nov 2015 43      Abu Dhabi  29 Nov 2015 43        Australia  20 Mar 2016 43      Bahrain  03 Apr 2016 40      China  17 Apr 2016 31      Russia  01 May 2016 43      Spain  15 May 2016 0      Monaco  29 May 2016 31      Canada  12 Jun 2016 35      Europe  19 Jun 2016 35      Austria  03 Jul 2016 37      Great Britain  10 Jul 2016 40      Hungary  24 Jul 2016 43      Germany  31 Jul 2016 37      Belgium  28 Aug 2016 40      Italy  04 Sep 2016 43      Singapore  18 Sep 2016 40      Malaysia  02 Oct 2016 15      Japan  09 Oct 2016 40      United States   23 Oct 2016 43      Mexico  30 Oct 2016 43      Brazil  13 Nov 2016 43      Abu Dhabi  27 Nov 2016 43        Australia  26 Mar 2017 33      China  09 Apr 2017 33      Bahrain  16 Apr 2017 33      Russia  30 Apr 2017 37      Spain  14 May 2017 25      Monaco  28 May 2017 18      Canada  11 Jun 2017 43      Azerbaijan  25 Jun 2017 28      Austria  09 Jul 2017 37      Great Britain  16 Jul 2017 43      Hungary  30 Jul 2017 27      Belgium  27 Aug 2017 35      Italy  03 Sep 2017 43      Singapore  17 Sep 2017 40      Malaysia  01 Oct 2017 28      Japan  08 Oct 2017 37      United States   22 Oct 2017 35      Mexico  29 Oct 2017 20      Brazil  12 Nov 2017 30      Abu Dhabi  26 Nov 2017 43        Australia  25 Mar 2018 22      Bahrain  08 Apr 2018 33      China  15 Apr 2018 30      Azerbaijan  29 Apr 2018 25      Spain  13 May 2018 43      Monaco  27 May 2018 25      Canada  10 Jun 2018 28      France  24 Jun 2018 31      Austria  01 Jul 2018 0      Great Britain  08 Jul 2018 30      Germany  22 Jul 2018 43      Hungary  29 Jul 2018 35      Belgium  26 Aug 2018 30      Italy  02 Sep 2018 40      Singapore  16 Sep 2018 37      Russia  30 Sep 2018 43      Japan  07 Oct 2018 43      United States   21 Oct 2018 25      Mexico  28 Oct 2018 22      Brazil  11 Nov 2018 35      Abu Dhabi  25 Nov 2018 35        Australia  17 Mar 2019 44      Bahrain  31 Mar 2019 43      China  14 Apr 2019 43      Azerbaijan  28 Apr 2019 43      Spain  12 May 2019 44      Monaco  26 May 2019 40      Canada  09 Jun 2019 38      France  23 Jun 2019 43      Austria  30 Jun 2019 25      Great Britain  14 Jul 2019 44      Germany  28 Jul 2019 2      Hungary  04 Aug 2019 29      Belgium  01 Sep 2019 33      Italy  08 Sep 2019 34      Singapore  22 Sep 2019 22      Russia  29 Sep 2019 44      Japan  13 Oct 2019 41      Mexico  27 Oct 2019 40      United States   03 Nov 2019 43      Brazil  17 Nov 2019 6      Abu Dhabi  01 Dec 2019 38        Austria  05 Jul 2020 37      Styria  12 Jul 2020 43      Hungary  19 Jul 2020 41      Great Britain  02 Aug 2020 25      70th Anniversary  09 Aug 2020 34      Spain  16 Aug 2020 41      Belgium  30 Aug 2020 43      Italy  06 Sep 2020 17      Tuscany  13 Sep 2020 44      Russia  27 Sep 2020 41      Eifel  11 Oct 2020 25      Portugal  25 Oct 2020 44      Emilia Romagna  01 Nov 2020 44      Turkey  15 Nov 2020 25      Bahrain  29 Nov 2020 29      Sakhir  06 Dec 2020 7      Abu Dhabi  13 Dec 2020 33   '"
      ]
     },
     "execution_count": 4,
     "metadata": {},
     "output_type": "execute_result"
    }
   ],
   "source": [
    "soup"
   ]
  },
  {
   "cell_type": "markdown",
   "metadata": {},
   "source": [
    "Once I have all the text in \"soup\", I use the regular expressions to parse through and find the circuit, points, and dates, which I then append to individual lists."
   ]
  },
  {
   "cell_type": "code",
   "execution_count": 5,
   "metadata": {},
   "outputs": [],
   "source": [
    "#Circuit Regex\n",
    "circuit_pattern = re.compile(r'\\s{4,8}(\\w*|\\w*\\s\\w*)\\s{2}')\n",
    "circuit = circuit_pattern.findall(soup)\n",
    "circuit_list = []\n",
    "for i in circuit:\n",
    "    circuit_list.append(i)"
   ]
  },
  {
   "cell_type": "code",
   "execution_count": 6,
   "metadata": {},
   "outputs": [],
   "source": [
    "#datemethodregex\n",
    "date_pattern = re.compile(r'\\d{1,2}\\s\\w*\\s\\d{4}')\n",
    "dates = date_pattern.findall(soup)\n",
    "date_list = []\n",
    "for i in dates:\n",
    "    date_list.append(i)"
   ]
  },
  {
   "cell_type": "code",
   "execution_count": 7,
   "metadata": {},
   "outputs": [],
   "source": [
    "#pointsregex\n",
    "points_pattern = re.compile(r'\\d{1,2}\\s\\w*\\s\\d{4}\\s(\\d{1,2})')\n",
    "points = points_pattern.findall(soup)\n",
    "points_list = []\n",
    "for i in points:\n",
    "    points_list.append(i)"
   ]
  },
  {
   "cell_type": "code",
   "execution_count": 8,
   "metadata": {},
   "outputs": [],
   "source": [
    "dico = {'Circuit':circuit_list,'Date':date_list,'Points':points_list}\n",
    "df = pd.DataFrame.from_dict(dico, orient='index')\n",
    "df = df.transpose()\n",
    "# df = df['Date'].astype(datetime)\n",
    "points_df= df['Points'].astype(str).astype(int)"
   ]
  },
  {
   "cell_type": "markdown",
   "metadata": {},
   "source": [
    "Finally I create a dictionary and create a Pandas dataframe from the lists I created."
   ]
  },
  {
   "cell_type": "code",
   "execution_count": 9,
   "metadata": {
    "scrolled": true
   },
   "outputs": [
    {
     "data": {
      "text/html": [
       "<div>\n",
       "<style scoped>\n",
       "    .dataframe tbody tr th:only-of-type {\n",
       "        vertical-align: middle;\n",
       "    }\n",
       "\n",
       "    .dataframe tbody tr th {\n",
       "        vertical-align: top;\n",
       "    }\n",
       "\n",
       "    .dataframe thead th {\n",
       "        text-align: right;\n",
       "    }\n",
       "</style>\n",
       "<table border=\"1\" class=\"dataframe\">\n",
       "  <thead>\n",
       "    <tr style=\"text-align: right;\">\n",
       "      <th></th>\n",
       "      <th>Circuit</th>\n",
       "      <th>Date</th>\n",
       "      <th>Points</th>\n",
       "    </tr>\n",
       "  </thead>\n",
       "  <tbody>\n",
       "    <tr>\n",
       "      <th>0</th>\n",
       "      <td>Bahrain</td>\n",
       "      <td>14 Mar 2010</td>\n",
       "      <td>18</td>\n",
       "    </tr>\n",
       "    <tr>\n",
       "      <th>1</th>\n",
       "      <td>Australia</td>\n",
       "      <td>28 Mar 2010</td>\n",
       "      <td>11</td>\n",
       "    </tr>\n",
       "    <tr>\n",
       "      <th>2</th>\n",
       "      <td>Malaysia</td>\n",
       "      <td>04 Apr 2010</td>\n",
       "      <td>15</td>\n",
       "    </tr>\n",
       "    <tr>\n",
       "      <th>3</th>\n",
       "      <td>China</td>\n",
       "      <td>18 Apr 2010</td>\n",
       "      <td>16</td>\n",
       "    </tr>\n",
       "    <tr>\n",
       "      <th>4</th>\n",
       "      <td>Spain</td>\n",
       "      <td>09 May 2010</td>\n",
       "      <td>12</td>\n",
       "    </tr>\n",
       "    <tr>\n",
       "      <th>...</th>\n",
       "      <td>...</td>\n",
       "      <td>...</td>\n",
       "      <td>...</td>\n",
       "    </tr>\n",
       "    <tr>\n",
       "      <th>210</th>\n",
       "      <td>Emilia Romagna</td>\n",
       "      <td>01 Nov 2020</td>\n",
       "      <td>44</td>\n",
       "    </tr>\n",
       "    <tr>\n",
       "      <th>211</th>\n",
       "      <td>Turkey</td>\n",
       "      <td>15 Nov 2020</td>\n",
       "      <td>25</td>\n",
       "    </tr>\n",
       "    <tr>\n",
       "      <th>212</th>\n",
       "      <td>Bahrain</td>\n",
       "      <td>29 Nov 2020</td>\n",
       "      <td>29</td>\n",
       "    </tr>\n",
       "    <tr>\n",
       "      <th>213</th>\n",
       "      <td>Sakhir</td>\n",
       "      <td>06 Dec 2020</td>\n",
       "      <td>7</td>\n",
       "    </tr>\n",
       "    <tr>\n",
       "      <th>214</th>\n",
       "      <td>Abu Dhabi</td>\n",
       "      <td>13 Dec 2020</td>\n",
       "      <td>33</td>\n",
       "    </tr>\n",
       "  </tbody>\n",
       "</table>\n",
       "<p>215 rows × 3 columns</p>\n",
       "</div>"
      ],
      "text/plain": [
       "            Circuit         Date Points\n",
       "0           Bahrain  14 Mar 2010     18\n",
       "1         Australia  28 Mar 2010     11\n",
       "2          Malaysia  04 Apr 2010     15\n",
       "3             China  18 Apr 2010     16\n",
       "4             Spain  09 May 2010     12\n",
       "..              ...          ...    ...\n",
       "210  Emilia Romagna  01 Nov 2020     44\n",
       "211          Turkey  15 Nov 2020     25\n",
       "212         Bahrain  29 Nov 2020     29\n",
       "213          Sakhir  06 Dec 2020      7\n",
       "214       Abu Dhabi  13 Dec 2020     33\n",
       "\n",
       "[215 rows x 3 columns]"
      ]
     },
     "execution_count": 9,
     "metadata": {},
     "output_type": "execute_result"
    }
   ],
   "source": [
    "df"
   ]
  },
  {
   "cell_type": "code",
   "execution_count": 10,
   "metadata": {},
   "outputs": [],
   "source": [
    "merc = df"
   ]
  },
  {
   "cell_type": "markdown",
   "metadata": {},
   "source": [
    "I also realized there are some one offs, such as Styria, or Emilia Romagna grand prix, which aren't extremely useful in the context of data analysis. They should in fact be changed to be grouped with the countries in which the prix' happened. "
   ]
  },
  {
   "cell_type": "code",
   "execution_count": 13,
   "metadata": {},
   "outputs": [],
   "source": [
    "merc['Circuit'] = merc['Circuit'].replace('Eifel','Germany')\n",
    "merc['Circuit'] = merc['Circuit'].replace('Tuscany','Italy')\n",
    "merc['Circuit'] = merc['Circuit'].replace('70th Anniversary','Great Britain')\n",
    "merc['Circuit'] = merc['Circuit'].replace('Sakhir','Bahrain')\n",
    "merc['Circuit'] = merc['Circuit'].replace('Styria', 'Austria')\n",
    "merc['Circuit'] = merc['Circuit'].replace('Emilia Romagna', 'Italy')"
   ]
  },
  {
   "cell_type": "code",
   "execution_count": 14,
   "metadata": {},
   "outputs": [
    {
     "data": {
      "text/html": [
       "<div>\n",
       "<style scoped>\n",
       "    .dataframe tbody tr th:only-of-type {\n",
       "        vertical-align: middle;\n",
       "    }\n",
       "\n",
       "    .dataframe tbody tr th {\n",
       "        vertical-align: top;\n",
       "    }\n",
       "\n",
       "    .dataframe thead th {\n",
       "        text-align: right;\n",
       "    }\n",
       "</style>\n",
       "<table border=\"1\" class=\"dataframe\">\n",
       "  <thead>\n",
       "    <tr style=\"text-align: right;\">\n",
       "      <th></th>\n",
       "      <th>Circuit</th>\n",
       "      <th>Date</th>\n",
       "      <th>Points</th>\n",
       "    </tr>\n",
       "  </thead>\n",
       "  <tbody>\n",
       "    <tr>\n",
       "      <th>count</th>\n",
       "      <td>215</td>\n",
       "      <td>215</td>\n",
       "      <td>215</td>\n",
       "    </tr>\n",
       "    <tr>\n",
       "      <th>unique</th>\n",
       "      <td>27</td>\n",
       "      <td>215</td>\n",
       "      <td>37</td>\n",
       "    </tr>\n",
       "    <tr>\n",
       "      <th>top</th>\n",
       "      <td>Italy</td>\n",
       "      <td>18 Sep 2016</td>\n",
       "      <td>43</td>\n",
       "    </tr>\n",
       "    <tr>\n",
       "      <th>freq</th>\n",
       "      <td>13</td>\n",
       "      <td>1</td>\n",
       "      <td>46</td>\n",
       "    </tr>\n",
       "  </tbody>\n",
       "</table>\n",
       "</div>"
      ],
      "text/plain": [
       "       Circuit         Date Points\n",
       "count      215          215    215\n",
       "unique      27          215     37\n",
       "top      Italy  18 Sep 2016     43\n",
       "freq        13            1     46"
      ]
     },
     "execution_count": 14,
     "metadata": {},
     "output_type": "execute_result"
    }
   ],
   "source": [
    "merc.describe()"
   ]
  },
  {
   "cell_type": "code",
   "execution_count": 11,
   "metadata": {},
   "outputs": [],
   "source": [
    "# merc.to_csv(r'C:\\Users\\lacar\\DQ Projects\\F1' + '\\\\mercedesrecord2010-2020.csv', index=False)"
   ]
  }
 ],
 "metadata": {
  "kernelspec": {
   "display_name": "Python 3",
   "language": "python",
   "name": "python3"
  },
  "language_info": {
   "codemirror_mode": {
    "name": "ipython",
    "version": 3
   },
   "file_extension": ".py",
   "mimetype": "text/x-python",
   "name": "python",
   "nbconvert_exporter": "python",
   "pygments_lexer": "ipython3",
   "version": "3.8.5"
  }
 },
 "nbformat": 4,
 "nbformat_minor": 4
}
